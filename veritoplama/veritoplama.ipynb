{
 "cells": [
  {
   "cell_type": "markdown",
   "metadata": {},
   "source": [
    "# Real Madrid Maç Tahmin Projesi\n"
   ]
  },
  {
   "cell_type": "markdown",
   "metadata": {},
   "source": [
    "\n",
    "Bu proje, Real Madrid futbol takımının maç sonuçlarını tahmin etmek ve maç istatistiklerini görselleştirmek amacıyla oluşturulmuştur.\n",
    "\n",
    "## Veri Toplama ve İşleme\n",
    "\n",
    "### Web Scraping ve Veri Ön İşleme\n",
    "Bu bölümde, [Sky Sports](https://www.skysports.com/real-madrid-results/2023-24) web sitesinden Real Madrid maç sonuçlarını çekme ve işleme işlemleri yapılmıştır.\n",
    "\n",
    "- `scrape_and_preprocess_matches()` fonksiyonu, belirli bir tarih aralığındaki maç verilerini çeker ve işler.\n",
    "- Çekilen veriler, 'processed_matches.csv' dosyasına kaydedilir.\n",
    "\n",
    "## Model Eğitimi ve Değerlendirmesi\n",
    "\n",
    "Bu kısımda, çekilen maç verileri üzerinden farklı makine öğrenimi modelleri eğitilmiş ve performansları değerlendirilmiştir.\n",
    "\n",
    "- Eğitilen modeller arasında Random Forest, Gradient Boosting gibi çeşitli regrasiyon veya sınıflandırma algoritmaları bulunmaktadır.\n",
    "- model, 'model.pkl' dosyasına kaydedilmiştir.\n",
    "\n",
    "## Streamlit Uygulaması\n",
    "\n",
    "Bu bölümde, kullanıcı arayüzü oluşturulmuş Real Madrid maç tahminleri yapılmıştır.\n",
    "\n",
    "- Kullanıcı, bir takım adını seçerek Real Madrid'ın o takıma karşı kazanma kayıbetme veya berabere kalma olasılıklarını görebilir.\n",
    "- Tahmin sonuçları ve maç istatistikleri görsel olarak sunulmuştur.\n",
    "\n",
    "[matchresultguess](https://matchresultguess.streamlit.app/) sitesinde modelin gerçek dünyada çalışmasını takip edebilriz\n"
   ]
  },
  {
   "cell_type": "code",
   "execution_count": 77,
   "metadata": {},
   "outputs": [
    {
     "name": "stdout",
     "output_type": "stream",
     "text": [
      "processed_matches.csv dosyası oluşturuldu.\n"
     ]
    }
   ],
   "source": [
    "import pandas as pd\n",
    "import requests\n",
    "from bs4 import BeautifulSoup\n",
    "from datetime import datetime\n",
    "\n",
    "def scrape_and_preprocess_matches():\n",
    "    # Maç verilerinin toplanacağı boş bir liste oluşturulur.\n",
    "    all_match_data = []\n",
    "\n",
    "    # Şu anki yıl alınır\n",
    "    current_year = datetime.now().year\n",
    "\n",
    "    # Yılları tersten (en son yıldan ilk yıla doğru) dolaşır.\n",
    "    for year in range(current_year, 1999, -1):  \n",
    "        # Yıl aralığını string formatında oluşturur (örneğin, '2023-2024')\n",
    "        year_str = f'{year}-{year+1:02d}'\n",
    "        \n",
    "        # Skysports sitesinden Real Madrid'in maç sonuçlarının bulunduğu sayfayı çeker.\n",
    "        url = f'https://www.skysports.com/real-madrid-results/{year_str}'\n",
    "        response = requests.get(url)\n",
    "        soup = BeautifulSoup(response.content, 'html.parser')\n",
    "        \n",
    "        # Her bir maçın yer aldığı HTML bloklarını bulur.\n",
    "        matches = soup.find_all('div', class_='fixres__item')\n",
    "\n",
    "        # Her bir maçın verilerini işler.\n",
    "        match_data = []\n",
    "        for match in matches:\n",
    "            # Takımların isimlerini bulur.\n",
    "            teams = match.find_all('span', class_='swap-text__target')\n",
    "            team_A = teams[0].text\n",
    "            team_B = teams[1].text\n",
    "\n",
    "            # Maç skorlarını bulur.\n",
    "            scores = match.find('span', class_='matches__teamscores').text.strip()\n",
    "            score_split = scores.split()\n",
    "            score_A = score_split[0].strip()\n",
    "            score_B = score_split[-1].strip()\n",
    "\n",
    "            # Maç verilerini bir sözlükte toplar ve maç veri listesine ekler.\n",
    "            match_data.append({\n",
    "                'match_year': year_str,\n",
    "                'team_A': team_A if 'Real Madrid' in team_A else team_B,\n",
    "                'score_A': score_A if 'Real Madrid' in team_A else score_B,\n",
    "                'team_B': team_B if 'Real Madrid' in team_A else team_A,\n",
    "                'score_B': score_B if 'Real Madrid' in team_A else score_A,\n",
    "            })\n",
    "\n",
    "        # Oluşturulan maç veri listesi genel maç veri listesine eklenir.\n",
    "        all_match_data.extend(match_data)\n",
    "\n",
    "    # Toplanan tüm maç verileri bir DataFrame'e dönüştürülür.\n",
    "    df = pd.DataFrame(all_match_data)\n",
    "    \n",
    "    # Gerekli sütunlar seçilerek bir CSV dosyasına kaydedilir.\n",
    "    df[['match_year', 'team_A', 'team_B', 'score_A', 'score_B']].to_csv('./processed_matches.csv', index=False)\n",
    "    print('processed_matches.csv dosyası oluşturuldu.')\n",
    "\n",
    "# Fonksiyon çağrılır.\n",
    "scrape_and_preprocess_matches()\n"
   ]
  },
  {
   "cell_type": "code",
   "execution_count": 78,
   "metadata": {},
   "outputs": [],
   "source": [
    "import pandas as pd\n",
    "\n",
    "# Dosyayı oku\n",
    "file_path = \"./processed_matches.csv\" \n",
    "df = pd.read_csv(file_path)\n",
    "\n",
    "# 'result' sütununu ekleyerek veriyi güncelleme\n",
    "df['result'] = df.apply(lambda row: 1 if row['score_A'] > row['score_B'] else\n",
    "                                    0 if row['score_A'] < row['score_B'] else\n",
    "                                    2 if row['score_A'] == row['score_B'] else\n",
    "                                    None, axis=1)\n",
    "\n",
    "# Güncellenmiş veriyi aynı dosyaya yazma\n",
    "df.to_csv(file_path, index=False)\n"
   ]
  }
 ],
 "metadata": {
  "kernelspec": {
   "display_name": "Python 3 (ipykernel)",
   "language": "python",
   "name": "python3"
  }
 },
 "nbformat": 4,
 "nbformat_minor": 2
}
