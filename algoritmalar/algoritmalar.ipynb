{
 "cells": [
  {
   "cell_type": "markdown",
   "metadata": {},
   "source": [
    "# ön işleme ve veri görselleştirme"
   ]
  },
  {
   "cell_type": "code",
   "execution_count": 1,
   "metadata": {},
   "outputs": [],
   "source": [
    "import pandas as pd\n",
    "import joblib\n",
    "from sklearn.preprocessing import LabelEncoder\n"
   ]
  },
  {
   "cell_type": "code",
   "execution_count": 2,
   "metadata": {},
   "outputs": [],
   "source": [
    "\n",
    "# veriseti okuma\n",
    "file_path = \"../veritoplama/processed_matches.csv\"\n",
    "df = pd.read_csv(file_path)"
   ]
  },
  {
   "cell_type": "code",
   "execution_count": 3,
   "metadata": {},
   "outputs": [],
   "source": [
    "# önemli olmayan sütünleri kaldırmak\n",
    "not_imp_col = ['match_year', 'team_A', 'score_A', 'score_B']\n",
    "df = df.drop(columns=not_imp_col)\n"
   ]
  },
  {
   "cell_type": "code",
   "execution_count": 4,
   "metadata": {},
   "outputs": [],
   "source": [
    "#boş olan sütünleri kaldırmak\n",
    "df.dropna(inplace=True)"
   ]
  },
  {
   "cell_type": "code",
   "execution_count": 5,
   "metadata": {},
   "outputs": [
    {
     "data": {
      "text/plain": [
       "team_B    0\n",
       "result    0\n",
       "dtype: int64"
      ]
     },
     "execution_count": 5,
     "metadata": {},
     "output_type": "execute_result"
    }
   ],
   "source": [
    "# boş olan sütünler kalmadığından emin olmak\n",
    "df.isnull().sum()"
   ]
  },
  {
   "cell_type": "code",
   "execution_count": 12,
   "metadata": {},
   "outputs": [
    {
     "data": {
      "image/png": "[encoded data removed]",
      "text/plain": [
       "<Figure size 640x480 with 1 Axes>"
      ]
     },
     "metadata": {},
     "output_type": "display_data"
    }
   ],
   "source": [
    "import matplotlib.pyplot as plt\n",
    "\n",
    "# 'result' sütununda 'kazandı' olanları filtreleyip, kazanan takımları sayma\n",
    "kazananlar = df[df['result'] == 0]['team_B'].value_counts()\n",
    "\n",
    "# En çok kazanan ilk 5 takımın seçilmesi\n",
    "en_cok_kazananlar = kazananlar.head(5)\n",
    "\n",
    "# En çok kazanan takımların sayısını çubuk grafik olarak çizdirme\n",
    "en_cok_kazananlar.plot(kind='bar', color='green')\n",
    "plt.xlabel('Takımlar')\n",
    "plt.ylabel('Kazanılan Maç Sayısı')\n",
    "plt.title('En Çok Kazanan İlk 5 Takım')\n",
    "plt.show()\n"
   ]
  },
  {
   "cell_type": "markdown",
   "metadata": {},
   "source": [
    "**Sayısallaştırma**"
   ]
  },
  {
   "cell_type": "code",
   "execution_count": 6,
   "metadata": {},
   "outputs": [
    {
     "name": "stdout",
     "output_type": "stream",
     "text": [
      "0         9\n",
      "1       137\n",
      "2         0\n",
      "3       107\n",
      "4        63\n",
      "       ... \n",
      "1288    108\n",
      "1289    110\n",
      "1290    119\n",
      "1291     23\n",
      "1292     42\n",
      "Name: team_B_encoded, Length: 1293, dtype: int32\n"
     ]
    }
   ],
   "source": [
    "# \"team_B\" sütununu Label Encoding yapma\n",
    "label_encoder = LabelEncoder()\n",
    "df['team_B_encoded'] = label_encoder.fit_transform(df['team_B'])\n",
    "# encoding den sonra b takımların şekli\n",
    "print(df['team_B_encoded'])\n"
   ]
  },
  {
   "cell_type": "markdown",
   "metadata": {},
   "source": [
    "# Eğtim"
   ]
  },
  {
   "cell_type": "markdown",
   "metadata": {},
   "source": [
    "### kütüphaneleri import etme"
   ]
  },
  {
   "cell_type": "code",
   "execution_count": 7,
   "metadata": {},
   "outputs": [],
   "source": [
    "from sklearn.model_selection import train_test_split\n",
    "from sklearn.metrics import mean_squared_error, r2_score\n",
    "from sklearn.ensemble import RandomForestClassifier, GradientBoostingRegressor, RandomForestRegressor\n",
    "from sklearn.linear_model import LinearRegression, Ridge, Lasso, ElasticNet\n",
    "from sklearn.tree import DecisionTreeRegressor\n",
    "from sklearn.svm import SVR\n",
    "from sklearn.neighbors import KNeighborsRegressor\n",
    "from sklearn.tree import DecisionTreeClassifier\n",
    "from sklearn.linear_model import LogisticRegression\n",
    "from sklearn.neighbors import KNeighborsClassifier\n",
    "from sklearn.svm import SVC\n",
    "from sklearn.naive_bayes import GaussianNB\n"
   ]
  },
  {
   "cell_type": "markdown",
   "metadata": {},
   "source": [
    "### değikenleri ayırma ve veriseti eğitim ve test için oluşturma"
   ]
  },
  {
   "cell_type": "code",
   "execution_count": 8,
   "metadata": {},
   "outputs": [],
   "source": [
    "\n",
    "# Bağımsız değişkenler (X) ve bağımlı değişken (y) ayırma\n",
    "X = df[['team_B_encoded']]\n",
    "y = df['result']\n",
    "\n",
    "# Eğitim ve test veri setlerini oluşturma\n",
    "X_train, X_test, y_train, y_test = train_test_split(X, y, test_size=0.2, random_state=36)\n"
   ]
  },
  {
   "cell_type": "markdown",
   "metadata": {},
   "source": [
    "### eğitim algoritmaları bir list'te yerleştirme"
   ]
  },
  {
   "cell_type": "code",
   "execution_count": 9,
   "metadata": {},
   "outputs": [],
   "source": [
    "\n",
    "# algorithms tanıma\n",
    "algorithms = [\n",
    "    LinearRegression(),\n",
    "    Ridge(),\n",
    "    Lasso(),\n",
    "    ElasticNet(),\n",
    "    DecisionTreeRegressor(),\n",
    "    RandomForestRegressor(),\n",
    "    GradientBoostingRegressor(),\n",
    "    SVR(),\n",
    "    KNeighborsRegressor(),\n",
    "    RandomForestClassifier(),\n",
    "    DecisionTreeClassifier(),\n",
    "    LogisticRegression(),\n",
    "    KNeighborsClassifier(),\n",
    "    SVC(),\n",
    "    GaussianNB()\n",
    "]\n"
   ]
  },
  {
   "cell_type": "markdown",
   "metadata": {},
   "source": [
    "### train ve predict ve test adımları başlatma"
   ]
  },
  {
   "cell_type": "code",
   "execution_count": 10,
   "metadata": {},
   "outputs": [
    {
     "name": "stdout",
     "output_type": "stream",
     "text": [
      "----RMSE----\n",
      "LinearRegression RMSE: 0.5692587112484733\n",
      "Ridge RMSE: 0.5692587114927085\n",
      "Lasso RMSE: 0.5697080110865227\n",
      "ElasticNet RMSE: 0.5697080110865227\n",
      "DecisionTreeRegressor RMSE: 0.5821490015156677\n",
      "RandomForestRegressor RMSE: 0.5744221409901755\n",
      "GradientBoostingRegressor RMSE: 0.5640834328364998\n",
      "SVR RMSE: 0.5659942628375894\n",
      "KNeighborsRegressor RMSE: 0.6098293957262899\n",
      "RandomForestClassifier RMSE: 0.6056363321295766\n",
      "DecisionTreeClassifier RMSE: 0.6275527020278009\n",
      "LogisticRegression RMSE: 0.5694947974514994\n",
      "KNeighborsClassifier RMSE: 0.7246354428928556\n",
      "SVC RMSE: 0.5694947974514994\n",
      "GaussianNB RMSE: 0.5694947974514994\n"
     ]
    }
   ],
   "source": [
    "\n",
    "print(\"----RMSE----\")\n",
    "# Train and evaluate and test adımları gerçekleştirmek\n",
    "for algorithm in algorithms:\n",
    "    model = algorithm\n",
    "    model.fit(X_train, y_train)\n",
    "    y_pred = model.predict(X_test)\n",
    "    rmse = mean_squared_error(y_test, y_pred, squared=False)\n",
    "    print(f\"{algorithm.__class__.__name__} RMSE: {rmse}\")\n"
   ]
  },
  {
   "cell_type": "markdown",
   "metadata": {},
   "source": [
    "### modeli kayıd etme"
   ]
  },
  {
   "cell_type": "markdown",
   "metadata": {},
   "source": [
    "Tüm algoritmaların aralarında yakın sonuçlar verdiği için, RandomForestClassifier algoritmasını tercih etmemin temel nedeni, predict_proba fonksiyonundan faydalanmaktır. Bu fonksiyon, sınıflandırma problemlerinde tahmin edilen sınıfların olasılıklarını sağlar. RandomForestClassifier'ın bu özelliği, modelin sınıflandırma gücünü daha ayrıntılı ve detaylı bir şekilde değerlendirmeme olanak tanır. Bu sayede, modelin sınıflandırma kararlarını daha iyi anlayabilir ve güvenilir tahminler elde edebilirim."
   ]
  },
  {
   "cell_type": "code",
   "execution_count": 11,
   "metadata": {},
   "outputs": [
    {
     "name": "stdout",
     "output_type": "stream",
     "text": [
      "RandomForestClassifier ile eğitilen model kaydedildi.\n"
     ]
    }
   ],
   "source": [
    "    model = RandomForestClassifier()\n",
    "    model.fit(X_train, y_train)\n",
    "    y_pred = model.predict(X_test)\n",
    "    rmse = mean_squared_error(y_test, y_pred, squared=False)\n",
    "\n",
    "# Eğitilen modeli kayıdetmek\n",
    "joblib.dump(model, './model.pkl')\n",
    "print(\"RandomForestClassifier ile eğitilen model kaydedildi.\")"
   ]
  }
 ],
 "metadata": {
  "kernelspec": {
   "display_name": "Python 3 (ipykernel)",
   "language": "python",
   "name": "python3"
  },
  "language_info": {
   "codemirror_mode": {
    "name": "ipython",
    "version": 3
   },
   "file_extension": ".py",
   "mimetype": "text/x-python",
   "name": "python",
   "nbconvert_exporter": "python",
   "pygments_lexer": "ipython3",
   "version": "3.8.2"
  }
 },
 "nbformat": 4,
 "nbformat_minor": 2
}
