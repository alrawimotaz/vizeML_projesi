{
  "cells": [
    {
      "cell_type": "markdown",
      "metadata": {
        "id": "n-kAE2hkKjZE"
      },
      "source": [
        "# Real Madrid Maç Tahmin Projesi\n"
      ]
    },
    {
      "cell_type": "markdown",
      "metadata": {
        "id": "rps6JNpwK068"
      },
      "source": [
        "\n",
        "Bu proje, Real Madrid futbol takımının maç sonuçlarını tahmin etmek ve maç istatistiklerini görselleştirmek amacıyla oluşturulmuştur.\n",
        "\n",
        "## Veri Toplama ve İşleme\n",
        "\n",
        "### Web Scraping ve Veri Ön İşleme\n",
        "Bu bölümde, [Sky Sports](https://www.skysports.com/real-madrid-results/2023-24) web sitesinden Real Madrid maç sonuçlarını çekme ve işleme işlemleri yapılmıştır.\n",
        "\n",
        "- `scrape_and_preprocess_matches()` fonksiyonu, belirli bir tarih aralığındaki maç verilerini çeker ve işler.\n",
        "- Çekilen veriler, 'processed_matches.csv' dosyasına kaydedilir.\n",
        "\n",
        "## Model Eğitimi ve Değerlendirmesi\n",
        "\n",
        "Bu kısımda, çekilen maç verileri üzerinden farklı makine öğrenimi modelleri eğitilmiş ve performansları değerlendirilmiştir.\n",
        "\n",
        "- Eğitilen modeller arasında Random Forest, Gradient Boosting gibi çeşitli regrasiyon veya sınıflandırma algoritmaları bulunmaktadır.\n",
        "- model, 'model.pkl' dosyasına kaydedilmiştir.\n",
        "\n",
        "## Streamlit Uygulaması\n",
        "\n",
        "Bu bölümde, kullanıcı arayüzü oluşturulmuş Real Madrid maç tahminleri yapılmıştır.\n",
        "\n",
        "- Kullanıcı, bir takım adını seçerek Real Madrid'ın o takıma karşı kazanma kayıbetme veya berabere kalma olasılıklarını görebilir.\n",
        "- Tahmin sonuçları ve maç istatistikleri görsel olarak sunulmuştur.\n",
        "\n",
        "[matchresultguess](https://matchresultguess.streamlit.app/) sitesinde modelin gerçek dünyada çalışmasını takip edebilriz\n"
      ]
    },
    {
      "cell_type": "markdown",
      "metadata": {
        "id": "1xOFSIe2KlIX"
      },
      "source": [
        "# Veri Toplama"
      ]
    },
    {
      "cell_type": "code",
      "execution_count": 72,
      "metadata": {
        "colab": {
          "base_uri": "https://localhost:8080/"
        },
        "id": "6VKjMHI5MWmS",
        "outputId": "f063c2da-485f-4dc6-a875-1957f217c944"
      },
      "outputs": [
        {
          "name": "stdout",
          "output_type": "stream",
          "text": [
            "processed_matches.csv dosyası oluşturuldu.\n"
          ]
        }
      ],
      "source": [
        "import pandas as pd\n",
        "import requests\n",
        "from bs4 import BeautifulSoup\n",
        "from datetime import datetime\n",
        "\n",
        "def scrape_and_preprocess_matches():\n",
        "    # Maç verilerinin toplanacağı boş bir liste oluşturulur.\n",
        "    all_match_data = []\n",
        "\n",
        "    # Şu anki yıl alınır\n",
        "    current_year = datetime.now().year\n",
        "\n",
        "    # Yılları tersten (en son yıldan ilk yıla doğru) dolaşır.\n",
        "    for year in range(current_year, 1999, -1):  \n",
        "        # Yıl aralığını string formatında oluşturur (örneğin, '2023-2024')\n",
        "        year_str = f'{year}-{year+1:02d}'\n",
        "        \n",
        "        # Skysports sitesinden Real Madrid'in maç sonuçlarının bulunduğu sayfayı çeker.\n",
        "        url = f'https://www.skysports.com/real-madrid-results/{year_str}'\n",
        "        response = requests.get(url)\n",
        "        soup = BeautifulSoup(response.content, 'html.parser')\n",
        "        \n",
        "        # Her bir maçın yer aldığı HTML bloklarını bulur.\n",
        "        matches = soup.find_all('div', class_='fixres__item')\n",
        "\n",
        "        # Her bir maçın verilerini işler.\n",
        "        match_data = []\n",
        "        for match in matches:\n",
        "            # Takımların isimlerini bulur.\n",
        "            teams = match.find_all('span', class_='swap-text__target')\n",
        "            team_A = teams[0].text\n",
        "            team_B = teams[1].text\n",
        "\n",
        "            # Maç skorlarını bulur.\n",
        "            scores = match.find('span', class_='matches__teamscores').text.strip()\n",
        "            score_split = scores.split()\n",
        "            score_A = score_split[0].strip()\n",
        "            score_B = score_split[-1].strip()\n",
        "\n",
        "            # Maç verilerini bir sözlükte toplar ve maç veri listesine ekler.\n",
        "            match_data.append({\n",
        "                'match_year': year_str,\n",
        "                'team_A': team_A if 'Real Madrid' in team_A else team_B,\n",
        "                'score_A': score_A if 'Real Madrid' in team_A else score_B,\n",
        "                'team_B': team_B if 'Real Madrid' in team_A else team_A,\n",
        "                'score_B': score_B if 'Real Madrid' in team_A else score_A,\n",
        "            })\n",
        "\n",
        "        # Oluşturulan maç veri listesi genel maç veri listesine eklenir.\n",
        "        all_match_data.extend(match_data)\n",
        "\n",
        "    # Toplanan tüm maç verileri bir DataFrame'e dönüştürülür.\n",
        "    df = pd.DataFrame(all_match_data)\n",
        "    \n",
        "    # Gerekli sütunlar seçilerek bir CSV dosyasına kaydedilir.\n",
        "    df[['match_year', 'team_A', 'team_B', 'score_A', 'score_B']].to_csv('processed_matches.csv', index=False)\n",
        "    print('processed_matches.csv dosyası oluşturuldu.')\n",
        "\n",
        "# Fonksiyon çağrılır.\n",
        "scrape_and_preprocess_matches()\n"
      ]
    },
    {
      "cell_type": "code",
      "execution_count": 1,
      "metadata": {
        "id": "8D8uTuilPC76"
      },
      "outputs": [],
      "source": [
        "import pandas as pd\n",
        "\n",
        "# Dosyayı oku\n",
        "file_path = \"processed_matches.csv\"  # Dosyanın gerçek adını kullanmalısın\n",
        "df = pd.read_csv(file_path)\n",
        "\n",
        "# 'result' sütununu ekleyerek veriyi güncelle\n",
        "df['result'] = df.apply(lambda row: 1 if row['score_A'] > row['score_B'] else\n",
        "                                    0 if row['score_A'] < row['score_B'] else\n",
        "                                    2 if row['score_A'] == row['score_B'] else\n",
        "                                    None, axis=1)\n",
        "\n",
        "# Güncellenmiş veriyi aynı dosyaya yaz\n",
        "df.to_csv(file_path, index=False)\n"
      ]
    },
    {
      "cell_type": "markdown",
      "metadata": {
        "id": "QRrwPOkoVgj3"
      },
      "source": [
        "# ön işleme ve normalleştirme"
      ]
    },
    {
      "cell_type": "code",
      "execution_count": 2,
      "metadata": {
        "id": "_7rZsyy5Vgj4"
      },
      "outputs": [],
      "source": [
        "import pandas as pd\n",
        "import joblib\n",
        "from sklearn.preprocessing import LabelEncoder\n"
      ]
    },
    {
      "cell_type": "markdown",
      "metadata": {
        "id": "9V8jSVfaVgj4"
      },
      "source": [
        "veriyi okuma ve sayısallaştırma"
      ]
    },
    {
      "cell_type": "code",
      "execution_count": 3,
      "metadata": {
        "id": "YjXCb2NIVgj4"
      },
      "outputs": [],
      "source": [
        "\n",
        "# Load the dataset\n",
        "file_path = \"processed_matches.csv\"\n",
        "df = pd.read_csv(file_path)"
      ]
    },
    {
      "cell_type": "code",
      "execution_count": 4,
      "metadata": {
        "id": "mh4CQpNpVgj7"
      },
      "outputs": [],
      "source": [
        "# Birden fazla sütunu kaldırma\n",
        "not_imp_col = ['match_year', 'team_A', 'score_A', 'score_B']\n",
        "df = df.drop(columns=not_imp_col)\n"
      ]
    },
    {
      "cell_type": "code",
      "execution_count": 5,
      "metadata": {
        "id": "7h593JyhVgj8"
      },
      "outputs": [],
      "source": [
        "df.dropna(inplace=True)"
      ]
    },
    {
      "cell_type": "code",
      "execution_count": 6,
      "metadata": {
        "colab": {
          "base_uri": "https://localhost:8080/",
          "height": 478
        },
        "id": "R5oWqYDLVgj8",
        "outputId": "d5903fcd-3db9-4cb6-ea30-5b70ee413a49"
      },
      "outputs": [
        {
          "data": {
            "text/html": [
              "<div>\n",
              "<style scoped>\n",
              "    .dataframe tbody tr th:only-of-type {\n",
              "        vertical-align: middle;\n",
              "    }\n",
              "\n",
              "    .dataframe tbody tr th {\n",
              "        vertical-align: top;\n",
              "    }\n",
              "\n",
              "    .dataframe thead th {\n",
              "        text-align: right;\n",
              "    }\n",
              "</style>\n",
              "<table border=\"1\" class=\"dataframe\">\n",
              "  <thead>\n",
              "    <tr style=\"text-align: right;\">\n",
              "      <th></th>\n",
              "      <th>team_B_1. FC Union Berlin</th>\n",
              "      <th>team_B_AC Milan</th>\n",
              "      <th>team_B_AEK Athens (Grk)</th>\n",
              "      <th>team_B_Ajax</th>\n",
              "      <th>team_B_Al Ahly</th>\n",
              "      <th>team_B_Al Ain</th>\n",
              "      <th>team_B_Al Ittihad</th>\n",
              "      <th>team_B_Al Jazira</th>\n",
              "      <th>team_B_Al-Hilal</th>\n",
              "      <th>team_B_Alaves</th>\n",
              "      <th>...</th>\n",
              "      <th>team_B_Valerenga</th>\n",
              "      <th>team_B_Villarreal</th>\n",
              "      <th>team_B_Werder Bremen</th>\n",
              "      <th>team_B_Wisla Krakow</th>\n",
              "      <th>team_B_Wolfsburg</th>\n",
              "      <th>team_B_Xerez</th>\n",
              "      <th>team_B_Zenit St. Petersburg</th>\n",
              "      <th>result_0</th>\n",
              "      <th>result_1</th>\n",
              "      <th>result_2</th>\n",
              "    </tr>\n",
              "  </thead>\n",
              "  <tbody>\n",
              "    <tr>\n",
              "      <th>0</th>\n",
              "      <td>False</td>\n",
              "      <td>False</td>\n",
              "      <td>False</td>\n",
              "      <td>False</td>\n",
              "      <td>False</td>\n",
              "      <td>False</td>\n",
              "      <td>False</td>\n",
              "      <td>False</td>\n",
              "      <td>False</td>\n",
              "      <td>True</td>\n",
              "      <td>...</td>\n",
              "      <td>False</td>\n",
              "      <td>False</td>\n",
              "      <td>False</td>\n",
              "      <td>False</td>\n",
              "      <td>False</td>\n",
              "      <td>False</td>\n",
              "      <td>False</td>\n",
              "      <td>False</td>\n",
              "      <td>True</td>\n",
              "      <td>False</td>\n",
              "    </tr>\n",
              "    <tr>\n",
              "      <th>1</th>\n",
              "      <td>False</td>\n",
              "      <td>False</td>\n",
              "      <td>False</td>\n",
              "      <td>False</td>\n",
              "      <td>False</td>\n",
              "      <td>False</td>\n",
              "      <td>False</td>\n",
              "      <td>False</td>\n",
              "      <td>False</td>\n",
              "      <td>False</td>\n",
              "      <td>...</td>\n",
              "      <td>False</td>\n",
              "      <td>True</td>\n",
              "      <td>False</td>\n",
              "      <td>False</td>\n",
              "      <td>False</td>\n",
              "      <td>False</td>\n",
              "      <td>False</td>\n",
              "      <td>False</td>\n",
              "      <td>True</td>\n",
              "      <td>False</td>\n",
              "    </tr>\n",
              "    <tr>\n",
              "      <th>2</th>\n",
              "      <td>True</td>\n",
              "      <td>False</td>\n",
              "      <td>False</td>\n",
              "      <td>False</td>\n",
              "      <td>False</td>\n",
              "      <td>False</td>\n",
              "      <td>False</td>\n",
              "      <td>False</td>\n",
              "      <td>False</td>\n",
              "      <td>False</td>\n",
              "      <td>...</td>\n",
              "      <td>False</td>\n",
              "      <td>False</td>\n",
              "      <td>False</td>\n",
              "      <td>False</td>\n",
              "      <td>False</td>\n",
              "      <td>False</td>\n",
              "      <td>False</td>\n",
              "      <td>False</td>\n",
              "      <td>True</td>\n",
              "      <td>False</td>\n",
              "    </tr>\n",
              "    <tr>\n",
              "      <th>3</th>\n",
              "      <td>False</td>\n",
              "      <td>False</td>\n",
              "      <td>False</td>\n",
              "      <td>False</td>\n",
              "      <td>False</td>\n",
              "      <td>False</td>\n",
              "      <td>False</td>\n",
              "      <td>False</td>\n",
              "      <td>False</td>\n",
              "      <td>False</td>\n",
              "      <td>...</td>\n",
              "      <td>False</td>\n",
              "      <td>False</td>\n",
              "      <td>False</td>\n",
              "      <td>False</td>\n",
              "      <td>False</td>\n",
              "      <td>False</td>\n",
              "      <td>False</td>\n",
              "      <td>False</td>\n",
              "      <td>False</td>\n",
              "      <td>True</td>\n",
              "    </tr>\n",
              "    <tr>\n",
              "      <th>4</th>\n",
              "      <td>False</td>\n",
              "      <td>False</td>\n",
              "      <td>False</td>\n",
              "      <td>False</td>\n",
              "      <td>False</td>\n",
              "      <td>False</td>\n",
              "      <td>False</td>\n",
              "      <td>False</td>\n",
              "      <td>False</td>\n",
              "      <td>False</td>\n",
              "      <td>...</td>\n",
              "      <td>False</td>\n",
              "      <td>False</td>\n",
              "      <td>False</td>\n",
              "      <td>False</td>\n",
              "      <td>False</td>\n",
              "      <td>False</td>\n",
              "      <td>False</td>\n",
              "      <td>False</td>\n",
              "      <td>True</td>\n",
              "      <td>False</td>\n",
              "    </tr>\n",
              "    <tr>\n",
              "      <th>...</th>\n",
              "      <td>...</td>\n",
              "      <td>...</td>\n",
              "      <td>...</td>\n",
              "      <td>...</td>\n",
              "      <td>...</td>\n",
              "      <td>...</td>\n",
              "      <td>...</td>\n",
              "      <td>...</td>\n",
              "      <td>...</td>\n",
              "      <td>...</td>\n",
              "      <td>...</td>\n",
              "      <td>...</td>\n",
              "      <td>...</td>\n",
              "      <td>...</td>\n",
              "      <td>...</td>\n",
              "      <td>...</td>\n",
              "      <td>...</td>\n",
              "      <td>...</td>\n",
              "      <td>...</td>\n",
              "      <td>...</td>\n",
              "      <td>...</td>\n",
              "    </tr>\n",
              "    <tr>\n",
              "      <th>1288</th>\n",
              "      <td>False</td>\n",
              "      <td>False</td>\n",
              "      <td>False</td>\n",
              "      <td>False</td>\n",
              "      <td>False</td>\n",
              "      <td>False</td>\n",
              "      <td>False</td>\n",
              "      <td>False</td>\n",
              "      <td>False</td>\n",
              "      <td>False</td>\n",
              "      <td>...</td>\n",
              "      <td>False</td>\n",
              "      <td>False</td>\n",
              "      <td>False</td>\n",
              "      <td>False</td>\n",
              "      <td>False</td>\n",
              "      <td>False</td>\n",
              "      <td>False</td>\n",
              "      <td>True</td>\n",
              "      <td>False</td>\n",
              "      <td>False</td>\n",
              "    </tr>\n",
              "    <tr>\n",
              "      <th>1289</th>\n",
              "      <td>False</td>\n",
              "      <td>False</td>\n",
              "      <td>False</td>\n",
              "      <td>False</td>\n",
              "      <td>False</td>\n",
              "      <td>False</td>\n",
              "      <td>False</td>\n",
              "      <td>False</td>\n",
              "      <td>False</td>\n",
              "      <td>False</td>\n",
              "      <td>...</td>\n",
              "      <td>False</td>\n",
              "      <td>False</td>\n",
              "      <td>False</td>\n",
              "      <td>False</td>\n",
              "      <td>False</td>\n",
              "      <td>False</td>\n",
              "      <td>False</td>\n",
              "      <td>False</td>\n",
              "      <td>True</td>\n",
              "      <td>False</td>\n",
              "    </tr>\n",
              "    <tr>\n",
              "      <th>1290</th>\n",
              "      <td>False</td>\n",
              "      <td>False</td>\n",
              "      <td>False</td>\n",
              "      <td>False</td>\n",
              "      <td>False</td>\n",
              "      <td>False</td>\n",
              "      <td>False</td>\n",
              "      <td>False</td>\n",
              "      <td>False</td>\n",
              "      <td>False</td>\n",
              "      <td>...</td>\n",
              "      <td>False</td>\n",
              "      <td>False</td>\n",
              "      <td>False</td>\n",
              "      <td>False</td>\n",
              "      <td>False</td>\n",
              "      <td>False</td>\n",
              "      <td>False</td>\n",
              "      <td>False</td>\n",
              "      <td>True</td>\n",
              "      <td>False</td>\n",
              "    </tr>\n",
              "    <tr>\n",
              "      <th>1291</th>\n",
              "      <td>False</td>\n",
              "      <td>False</td>\n",
              "      <td>False</td>\n",
              "      <td>False</td>\n",
              "      <td>False</td>\n",
              "      <td>False</td>\n",
              "      <td>False</td>\n",
              "      <td>False</td>\n",
              "      <td>False</td>\n",
              "      <td>False</td>\n",
              "      <td>...</td>\n",
              "      <td>False</td>\n",
              "      <td>False</td>\n",
              "      <td>False</td>\n",
              "      <td>False</td>\n",
              "      <td>False</td>\n",
              "      <td>False</td>\n",
              "      <td>False</td>\n",
              "      <td>True</td>\n",
              "      <td>False</td>\n",
              "      <td>False</td>\n",
              "    </tr>\n",
              "    <tr>\n",
              "      <th>1292</th>\n",
              "      <td>False</td>\n",
              "      <td>False</td>\n",
              "      <td>False</td>\n",
              "      <td>False</td>\n",
              "      <td>False</td>\n",
              "      <td>False</td>\n",
              "      <td>False</td>\n",
              "      <td>False</td>\n",
              "      <td>False</td>\n",
              "      <td>False</td>\n",
              "      <td>...</td>\n",
              "      <td>False</td>\n",
              "      <td>False</td>\n",
              "      <td>False</td>\n",
              "      <td>False</td>\n",
              "      <td>False</td>\n",
              "      <td>False</td>\n",
              "      <td>False</td>\n",
              "      <td>False</td>\n",
              "      <td>True</td>\n",
              "      <td>False</td>\n",
              "    </tr>\n",
              "  </tbody>\n",
              "</table>\n",
              "<p>1293 rows × 146 columns</p>\n",
              "</div>"
            ],
            "text/plain": [
              "      team_B_1. FC Union Berlin  team_B_AC Milan  team_B_AEK Athens (Grk)  \\\n",
              "0                         False            False                    False   \n",
              "1                         False            False                    False   \n",
              "2                          True            False                    False   \n",
              "3                         False            False                    False   \n",
              "4                         False            False                    False   \n",
              "...                         ...              ...                      ...   \n",
              "1288                      False            False                    False   \n",
              "1289                      False            False                    False   \n",
              "1290                      False            False                    False   \n",
              "1291                      False            False                    False   \n",
              "1292                      False            False                    False   \n",
              "\n",
              "      team_B_Ajax  team_B_Al Ahly  team_B_Al Ain  team_B_Al Ittihad  \\\n",
              "0           False           False          False              False   \n",
              "1           False           False          False              False   \n",
              "2           False           False          False              False   \n",
              "3           False           False          False              False   \n",
              "4           False           False          False              False   \n",
              "...           ...             ...            ...                ...   \n",
              "1288        False           False          False              False   \n",
              "1289        False           False          False              False   \n",
              "1290        False           False          False              False   \n",
              "1291        False           False          False              False   \n",
              "1292        False           False          False              False   \n",
              "\n",
              "      team_B_Al Jazira  team_B_Al-Hilal  team_B_Alaves  ...  team_B_Valerenga  \\\n",
              "0                False            False           True  ...             False   \n",
              "1                False            False          False  ...             False   \n",
              "2                False            False          False  ...             False   \n",
              "3                False            False          False  ...             False   \n",
              "4                False            False          False  ...             False   \n",
              "...                ...              ...            ...  ...               ...   \n",
              "1288             False            False          False  ...             False   \n",
              "1289             False            False          False  ...             False   \n",
              "1290             False            False          False  ...             False   \n",
              "1291             False            False          False  ...             False   \n",
              "1292             False            False          False  ...             False   \n",
              "\n",
              "      team_B_Villarreal  team_B_Werder Bremen  team_B_Wisla Krakow  \\\n",
              "0                 False                 False                False   \n",
              "1                  True                 False                False   \n",
              "2                 False                 False                False   \n",
              "3                 False                 False                False   \n",
              "4                 False                 False                False   \n",
              "...                 ...                   ...                  ...   \n",
              "1288              False                 False                False   \n",
              "1289              False                 False                False   \n",
              "1290              False                 False                False   \n",
              "1291              False                 False                False   \n",
              "1292              False                 False                False   \n",
              "\n",
              "      team_B_Wolfsburg  team_B_Xerez  team_B_Zenit St. Petersburg  result_0  \\\n",
              "0                False         False                        False     False   \n",
              "1                False         False                        False     False   \n",
              "2                False         False                        False     False   \n",
              "3                False         False                        False     False   \n",
              "4                False         False                        False     False   \n",
              "...                ...           ...                          ...       ...   \n",
              "1288             False         False                        False      True   \n",
              "1289             False         False                        False     False   \n",
              "1290             False         False                        False     False   \n",
              "1291             False         False                        False      True   \n",
              "1292             False         False                        False     False   \n",
              "\n",
              "      result_1  result_2  \n",
              "0         True     False  \n",
              "1         True     False  \n",
              "2         True     False  \n",
              "3        False      True  \n",
              "4         True     False  \n",
              "...        ...       ...  \n",
              "1288     False     False  \n",
              "1289      True     False  \n",
              "1290      True     False  \n",
              "1291     False     False  \n",
              "1292      True     False  \n",
              "\n",
              "[1293 rows x 146 columns]"
            ]
          },
          "execution_count": 6,
          "metadata": {},
          "output_type": "execute_result"
        }
      ],
      "source": [
        "def kategorik_kodlama(df, kategorik_sutunlar):\n",
        "    return pd.get_dummies(df, columns=kategorik_sutunlar)\n",
        "kategorik_kodlama(df, ['team_B', 'result'])\n"
      ]
    },
    {
      "cell_type": "code",
      "execution_count": 8,
      "metadata": {
        "id": "aYREAQ5mVgj9"
      },
      "outputs": [
        {
          "name": "stdout",
          "output_type": "stream",
          "text": [
            "0         9\n",
            "1       137\n",
            "2         0\n",
            "3       107\n",
            "4        63\n",
            "       ... \n",
            "1288    108\n",
            "1289    110\n",
            "1290    119\n",
            "1291     23\n",
            "1292     42\n",
            "Name: team_B_encoded, Length: 1293, dtype: int32\n"
          ]
        }
      ],
      "source": [
        "# \"team_B\" sütununu Label Encoding yap\n",
        "label_encoder = LabelEncoder()\n",
        "df['team_B_encoded'] = label_encoder.fit_transform(df['team_B'])\n",
        "print(df['team_B_encoded'] )"
      ]
    },
    {
      "cell_type": "code",
      "execution_count": 9,
      "metadata": {
        "colab": {
          "base_uri": "https://localhost:8080/",
          "height": 565
        },
        "id": "ezz5M8voVgj9",
        "outputId": "911f383d-077f-443f-cb44-35f2b88375c1"
      },
      "outputs": [
        {
          "data": {
            "image/png": "[encoded data removed]",
            "text/plain": [
              "<Figure size 640x480 with 1 Axes>"
            ]
          },
          "metadata": {},
          "output_type": "display_data"
        }
      ],
      "source": [
        "import matplotlib.pyplot as plt\n",
        "\n",
        "# 'result' sütununda 'kazandı' olanları filtreleyip, kazanan takımları sayma\n",
        "kazananlar = df[df['result'] == 0]['team_B'].value_counts()\n",
        "\n",
        "# En çok kazanan ilk 5 takımın seçilmesi\n",
        "en_cok_kazananlar = kazananlar.head(5)\n",
        "\n",
        "# En çok kazanan takımların sayısını çubuk grafik olarak çizdirme\n",
        "en_cok_kazananlar.plot(kind='bar', color='green')\n",
        "plt.xlabel('Takımlar')\n",
        "plt.ylabel('Kazanılan Maç Sayısı')\n",
        "plt.title('En Çok Kazanan İlk 5 Takım')\n",
        "plt.show()\n"
      ]
    },
    {
      "cell_type": "code",
      "execution_count": 10,
      "metadata": {
        "colab": {
          "base_uri": "https://localhost:8080/"
        },
        "id": "bA570njYVgj-",
        "outputId": "2206e570-3c0d-47a8-d643-d118bb321ac9"
      },
      "outputs": [
        {
          "data": {
            "text/plain": [
              "count          1293\n",
              "unique          143\n",
              "top       Barcelona\n",
              "freq             69\n",
              "Name: team_B, dtype: object"
            ]
          },
          "execution_count": 10,
          "metadata": {},
          "output_type": "execute_result"
        }
      ],
      "source": [
        "# Sınıflandırma sütununun istatistiklerini gösterme\n",
        "df['team_B'].describe()\n"
      ]
    },
    {
      "cell_type": "code",
      "execution_count": 11,
      "metadata": {},
      "outputs": [
        {
          "data": {
            "text/plain": [
              "team_B            0\n",
              "result            0\n",
              "team_B_encoded    0\n",
              "dtype: int64"
            ]
          },
          "execution_count": 11,
          "metadata": {},
          "output_type": "execute_result"
        }
      ],
      "source": [
        "df.isnull().sum()"
      ]
    },
    {
      "cell_type": "code",
      "execution_count": 12,
      "metadata": {},
      "outputs": [
        {
          "name": "stdout",
          "output_type": "stream",
          "text": [
            "<class 'pandas.core.frame.DataFrame'>\n",
            "RangeIndex: 1293 entries, 0 to 1292\n",
            "Data columns (total 3 columns):\n",
            " #   Column          Non-Null Count  Dtype \n",
            "---  ------          --------------  ----- \n",
            " 0   team_B          1293 non-null   object\n",
            " 1   result          1293 non-null   int64 \n",
            " 2   team_B_encoded  1293 non-null   int32 \n",
            "dtypes: int32(1), int64(1), object(1)\n",
            "memory usage: 25.4+ KB\n"
          ]
        }
      ],
      "source": [
        "df.info()"
      ]
    },
    {
      "cell_type": "code",
      "execution_count": 13,
      "metadata": {
        "colab": {
          "base_uri": "https://localhost:8080/"
        },
        "id": "vMiHITltVgj-",
        "outputId": "d0182078-dc18-45d6-f64e-77d0e9c7e5ba"
      },
      "outputs": [
        {
          "name": "stdout",
          "output_type": "stream",
          "text": [
            "                team_B  result  team_B_encoded\n",
            "0               Alaves       1               9\n",
            "1           Villarreal       1             137\n",
            "2   1. FC Union Berlin       1               0\n",
            "3           Real Betis       2             107\n",
            "4              Granada       1              63\n",
            "5               Napoli       1              92\n",
            "6                Cadiz       1              33\n",
            "7             Valencia       1             135\n",
            "8                Braga       1              30\n",
            "9       Rayo Vallecano       2             106\n",
            "10           Barcelona       1              23\n",
            "11               Braga       1              30\n",
            "12             Sevilla       2             124\n",
            "13             Osasuna       1              96\n",
            "14              Napoli       1              92\n",
            "15              Girona       1              62\n",
            "16          Las Palmas       1              71\n",
            "17     Atletico Madrid       0              20\n",
            "18  1. FC Union Berlin       1               0\n",
            "19       Real Sociedad       1             110\n"
          ]
        }
      ],
      "source": [
        "# Örnek bir DataFrame'den ilk birkaç satırı görüntüleme\n",
        "print(df.head(20))\n"
      ]
    },
    {
      "cell_type": "markdown",
      "metadata": {
        "id": "Wd2lr3KuKl19"
      },
      "source": [
        "# Eğitm"
      ]
    },
    {
      "cell_type": "markdown",
      "metadata": {
        "id": "H6pEaVxEVgj6"
      },
      "source": [
        "### kütüphaneleri import etme"
      ]
    },
    {
      "cell_type": "code",
      "execution_count": 14,
      "metadata": {
        "id": "XBLsxWO6Vgj6"
      },
      "outputs": [],
      "source": [
        "\n",
        "from sklearn.model_selection import train_test_split\n",
        "from sklearn.metrics import mean_squared_error, r2_score\n",
        "from sklearn.ensemble import RandomForestClassifier, GradientBoostingRegressor, RandomForestRegressor\n",
        "from sklearn.linear_model import LinearRegression, Ridge, Lasso, ElasticNet\n",
        "from sklearn.tree import DecisionTreeRegressor\n",
        "from sklearn.svm import SVR\n",
        "from sklearn.neighbors import KNeighborsRegressor\n",
        "from sklearn.tree import DecisionTreeClassifier\n",
        "from sklearn.linear_model import LogisticRegression\n",
        "from sklearn.neighbors import KNeighborsClassifier\n",
        "from sklearn.svm import SVC\n",
        "from sklearn.naive_bayes import GaussianNB\n"
      ]
    },
    {
      "cell_type": "markdown",
      "metadata": {
        "id": "jTqyttaJVgj-"
      },
      "source": [
        "### değikenleri ayırma ve veriseti eğitim ve test için oluşturma"
      ]
    },
    {
      "cell_type": "code",
      "execution_count": 15,
      "metadata": {
        "id": "DJ_FegLLVgj_"
      },
      "outputs": [],
      "source": [
        "\n",
        "# Bağımsız değişkenler (X) ve bağımlı değişken (y) ayırma\n",
        "X = df[['team_B_encoded']]\n",
        "y = df['result']\n",
        "\n",
        "# Eğitim ve test veri setlerini oluştur\n",
        "X_train, X_test, y_train, y_test = train_test_split(X, y, test_size=0.2, random_state=36)\n"
      ]
    },
    {
      "cell_type": "markdown",
      "metadata": {
        "id": "iTZ7kQKIVgj_"
      },
      "source": [
        "### eğitim algoritmaları bir list te yerleştirme"
      ]
    },
    {
      "cell_type": "code",
      "execution_count": 16,
      "metadata": {
        "id": "eiM_clvYVgj_"
      },
      "outputs": [],
      "source": [
        "\n",
        "# Define algorithms\n",
        "algorithms = [\n",
        "    LinearRegression(),\n",
        "    Ridge(),\n",
        "    Lasso(),\n",
        "    ElasticNet(),\n",
        "    DecisionTreeRegressor(),\n",
        "    RandomForestRegressor(),\n",
        "    GradientBoostingRegressor(),\n",
        "    SVR(),\n",
        "    KNeighborsRegressor(),\n",
        "    RandomForestClassifier(),\n",
        "    DecisionTreeClassifier(),\n",
        "    LogisticRegression(),\n",
        "    KNeighborsClassifier(),\n",
        "    SVC(),\n",
        "    GaussianNB()\n",
        "]\n"
      ]
    },
    {
      "cell_type": "markdown",
      "metadata": {
        "id": "mHLlGqMKVgj_"
      },
      "source": [
        "### train ve predict ve test adımları başlatma"
      ]
    },
    {
      "cell_type": "code",
      "execution_count": 17,
      "metadata": {
        "colab": {
          "base_uri": "https://localhost:8080/"
        },
        "id": "St7VB9kkVgj_",
        "outputId": "91341e19-394b-412b-d273-584f11887910"
      },
      "outputs": [
        {
          "name": "stdout",
          "output_type": "stream",
          "text": [
            "----RMSE----\n",
            "LinearRegression RMSE: 0.5692587112484733\n",
            "Ridge RMSE: 0.5692587114927085\n",
            "Lasso RMSE: 0.5697080110865227\n",
            "ElasticNet RMSE: 0.5697080110865227\n",
            "DecisionTreeRegressor RMSE: 0.5821490015156677\n",
            "RandomForestRegressor RMSE: 0.5765436875157224\n",
            "GradientBoostingRegressor RMSE: 0.5640834328364998\n",
            "SVR RMSE: 0.5659942628375894\n",
            "KNeighborsRegressor RMSE: 0.6098293957262899\n",
            "RandomForestClassifier RMSE: 0.6119782467681139\n",
            "DecisionTreeClassifier RMSE: 0.6275527020278009\n",
            "LogisticRegression RMSE: 0.5694947974514994\n",
            "KNeighborsClassifier RMSE: 0.7246354428928556\n",
            "SVC RMSE: 0.5694947974514994\n",
            "GaussianNB RMSE: 0.5694947974514994\n"
          ]
        }
      ],
      "source": [
        "\n",
        "print(\"----RMSE----\")\n",
        "# Train and evaluate each algorithm\n",
        "for algorithm in algorithms:\n",
        "    model = algorithm\n",
        "    model.fit(X_train, y_train)\n",
        "    y_pred = model.predict(X_test)\n",
        "    rmse = mean_squared_error(y_test, y_pred, squared=False)\n",
        "    print(f\"{algorithm.__class__.__name__} RMSE: {rmse}\")\n"
      ]
    },
    {
      "cell_type": "markdown",
      "metadata": {
        "id": "8iUouiGXVgkA"
      },
      "source": [
        "###### Tüm algoritmaların aralarında yakın sonuçlar verdiği için, RandomForestClassifier algoritmasını tercih etmemin temel nedeni, predict_proba fonksiyonundan faydalanmaktır. Bu fonksiyon, sınıflandırma problemlerinde tahmin edilen sınıfların olasılıklarını sağlar. RandomForestClassifier'ın bu özelliği, modelin sınıflandırma gücünü daha ayrıntılı ve detaylı bir şekilde değerlendirmeme olanak tanır. Bu sayede, modelin sınıflandırma kararlarını daha iyi anlayabilir ve güvenilir tahminler elde edebilirim."
      ]
    },
    {
      "cell_type": "code",
      "execution_count": 18,
      "metadata": {
        "colab": {
          "base_uri": "https://localhost:8080/"
        },
        "id": "nkDW1wreVgkA",
        "outputId": "a1c5fc2d-0e4f-4118-de07-0fb1962f1d09"
      },
      "outputs": [
        {
          "name": "stdout",
          "output_type": "stream",
          "text": [
            "RandomForestClassifier ile eğitilen model kaydedildi.\n"
          ]
        }
      ],
      "source": [
        "    model = RandomForestClassifier()\n",
        "    model.fit(X_train, y_train)\n",
        "    y_pred = model.predict(X_test)\n",
        "    rmse = mean_squared_error(y_test, y_pred, squared=False)\n",
        "\n",
        "# Eğitilen modeli kaydedelim\n",
        "joblib.dump(model, 'model.pkl')\n",
        "print(\"RandomForestClassifier ile eğitilen model kaydedildi.\")"
      ]
    },
    {
      "cell_type": "markdown",
      "metadata": {
        "id": "YpEv2pzEKmup"
      },
      "source": [
        "# Servisleme"
      ]
    },
    {
      "cell_type": "code",
      "execution_count": 19,
      "metadata": {
        "colab": {
          "base_uri": "https://localhost:8080/",
          "height": 384
        },
        "id": "ZtzEmoqYIG4V",
        "outputId": "cd556096-4e94-4afa-a67d-9f0be6a44e58"
      },
      "outputs": [
        {
          "ename": "ModuleNotFoundError",
          "evalue": "ignored",
          "output_type": "error",
          "traceback": [
            "\u001b[0;31m---------------------------------------------------------------------------\u001b[0m",
            "\u001b[0;31mModuleNotFoundError\u001b[0m                       Traceback (most recent call last)",
            "\u001b[0;32m<ipython-input-19-1a370d4fee34>\u001b[0m in \u001b[0;36m<cell line: 7>\u001b[0;34m()\u001b[0m\n\u001b[1;32m      5\u001b[0m \u001b[0;32mimport\u001b[0m \u001b[0mmath\u001b[0m\u001b[0;34m\u001b[0m\u001b[0;34m\u001b[0m\u001b[0m\n\u001b[1;32m      6\u001b[0m \u001b[0;32mimport\u001b[0m \u001b[0mjoblib\u001b[0m\u001b[0;34m\u001b[0m\u001b[0;34m\u001b[0m\u001b[0m\n\u001b[0;32m----> 7\u001b[0;31m \u001b[0;32mimport\u001b[0m \u001b[0mstreamlit\u001b[0m \u001b[0;32mas\u001b[0m \u001b[0mst\u001b[0m\u001b[0;34m\u001b[0m\u001b[0;34m\u001b[0m\u001b[0m\n\u001b[0m\u001b[1;32m      8\u001b[0m \u001b[0;32mimport\u001b[0m \u001b[0mmatplotlib\u001b[0m\u001b[0;34m.\u001b[0m\u001b[0mpyplot\u001b[0m \u001b[0;32mas\u001b[0m \u001b[0mplt\u001b[0m\u001b[0;34m\u001b[0m\u001b[0;34m\u001b[0m\u001b[0m\n\u001b[1;32m      9\u001b[0m \u001b[0;34m\u001b[0m\u001b[0m\n",
            "\u001b[0;31mModuleNotFoundError\u001b[0m: No module named 'streamlit'",
            "",
            "\u001b[0;31m---------------------------------------------------------------------------\u001b[0;32m\nNOTE: If your import is failing due to a missing package, you can\nmanually install dependencies using either !pip or !apt.\n\nTo view examples of installing some common dependencies, click the\n\"Open Examples\" button below.\n\u001b[0;31m---------------------------------------------------------------------------\u001b[0m\n"
          ]
        }
      ],
      "source": [
        "import pandas as pd\n",
        "from sklearn.model_selection import train_test_split\n",
        "from sklearn.ensemble import RandomForestClassifier\n",
        "from sklearn.preprocessing import LabelEncoder\n",
        "import math\n",
        "import joblib\n",
        "import streamlit as st\n",
        "import matplotlib.pyplot as plt\n",
        "\n",
        "# Veri setini oku\n",
        "file_path = \"processed_matches.csv\"\n",
        "df = pd.read_csv(file_path)\n",
        "\n",
        "# \"team_B\" sütununu Label Encoding yap\n",
        "label_encoder = LabelEncoder()\n",
        "df['team_B_encoded'] = label_encoder.fit_transform(df['team_B'])\n",
        "\n",
        "# Load the trained model\n",
        "best_model = joblib.load('model.pkl')\n",
        "\n",
        "# Streamlit arayüzü\n",
        "st.title(\"Real Madrid Win Prediction Model\")\n",
        "\n",
        "# Kullanıcıdan takım seçimini al\n",
        "selected_team = st.selectbox(\"Select a team:\", df['team_B'].unique())\n",
        "\n",
        "# Label Encoding uygula\n",
        "selected_team_encoded = label_encoder.transform([selected_team])\n",
        "\n",
        "# Tahmin olasılıklarını al\n",
        "probabilities = best_model.predict_proba([[selected_team_encoded[0]]])[0]\n",
        "\n",
        "# Olasılıkları göster\n",
        "st.write(f\"{selected_team} Team Next Match Probabiliteis:\")\n",
        "st.write(f\"Probability of Real Madrid winning: {probabilities[1]:.2%}\")\n",
        "st.write(f\"Draw Probability: {probabilities[2]:.2%}\")\n",
        "st.write(f\"Probability of {selected_team} winning: {probabilities[0]:.2%}\")\n",
        "\n",
        "# Maç istatistikleri\n",
        "team_A_wins = len(df[(df['team_B'] == selected_team) & (df['score_A'] > df['score_B'])])\n",
        "team_B_wins = len(df[(df['team_B'] == selected_team) & (df['score_A'] < df['score_B'])])\n",
        "draws = len(df[(df['team_B'] == selected_team) & (df['score_A'] == df['score_B'])])\n",
        "\n",
        "# Maç istatistikleri\n",
        "st.subheader(\"Match Statistics\")\n",
        "st.write(f\"Real Madrid Wins: {team_A_wins} times\")\n",
        "st.write(f\"{selected_team} Wins: {team_B_wins} times\")\n",
        "st.write(f\"Draws: {draws} times\")\n",
        "\n",
        "# Sidebar menü\n",
        "st.sidebar.header('Graph Menu')\n",
        "st.sidebar.title('Statistics Chart')\n",
        "\n",
        "# Calculate the maximum probability for the selected team's future match outcome\n",
        "prediction_probability = max(probabilities)\n",
        "\n",
        "# Sidebar'da çubuk grafik gösterimi\n",
        "with st.sidebar.expander('Match Statistics'):\n",
        "    fig, ax = plt.subplots()\n",
        "    labels = ['Real Madrid Wins', f'{selected_team} Wins', 'Draws']\n",
        "    values = [team_A_wins, team_B_wins, draws]\n",
        "\n",
        "    ax.bar(labels, values)\n",
        "    ax.set_ylabel('Number of Occurrences')\n",
        "    ax.set_title('Match Statistics')\n",
        "\n",
        "    st.pyplot(fig)\n",
        "\n",
        "# Sidebar menü\n",
        "st.sidebar.title('Prediction Chart')\n",
        "\n",
        "# Sidebar'da pasta grafiği gösterimi\n",
        "with st.sidebar.expander('Match Prediction'):\n",
        "    labels = ['Real Madrid Wins', f'{selected_team} Wins', 'Draws']\n",
        "    sizes = [probabilities[1], probabilities[0], probabilities[2]]\n",
        "    colors = ['lightcoral', 'lightskyblue', 'lightgreen']\n",
        "    explode = (0.1, 0, 0.1)\n",
        "\n",
        "    fig, ax = plt.subplots(figsize=(4, 4))\n",
        "    ax.pie(sizes, explode=explode, labels=labels, colors=colors, autopct='%1.1f%%', shadow=True, startangle=140)\n",
        "    ax.axis('equal')\n",
        "    ax.set_title('Match Prediction')\n",
        "\n",
        "    st.pyplot(fig)\n"
      ]
    }
  ],
  "metadata": {
    "colab": {
      "provenance": []
    },
    "kernelspec": {
      "display_name": "Python 3 (ipykernel)",
      "language": "python",
      "name": "python3"
    },
    "language_info": {
      "codemirror_mode": {
        "name": "ipython",
        "version": 3
      },
      "file_extension": ".py",
      "mimetype": "text/x-python",
      "name": "python",
      "nbconvert_exporter": "python",
      "pygments_lexer": "ipython3",
      "version": "3.8.2"
    }
  },
  "nbformat": 4,
  "nbformat_minor": 0
}
